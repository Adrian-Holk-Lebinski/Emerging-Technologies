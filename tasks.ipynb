{
 "cells": [
  {
   "cell_type": "markdown",
   "id": "afd0568a",
   "metadata": {},
   "source": [
    "# The Collatz Conjecture"
   ]
  },
  {
   "attachments": {
    "image.png": {
     "image/png": "[encoded data removed]"
    }
   },
   "cell_type": "markdown",
   "id": "2c24a916",
   "metadata": {},
   "source": [
    "## The Task\n",
    "The problem is to prove that if you start with any positive integer x and repeatedly apply the function f(x) below, you always get stuck in the repeating sequence 1, 4, 2, 1, 4, 2, . . .\n",
    "![image.png](attachment:image.png)\n",
    "\n",
    "For example, if we started with the number 20 the sequence would be: [20, 10, 5, 16, 8, 4, 2, 1, 4, 2, 1, ...]\n",
    "\n",
    "The Task is to verify the first positive 10,000 integers result in that sequence with this function."
   ]
  },
  {
   "cell_type": "markdown",
   "id": "f97936cd",
   "metadata": {},
   "source": [
    "$$\n",
    "f(x) = \n",
    "$$"
   ]
  },
  {
   "cell_type": "markdown",
   "id": "ab92096d",
   "metadata": {},
   "source": [
    "## Proving the conjecture"
   ]
  },
  {
   "cell_type": "code",
   "execution_count": 1,
   "id": "eac52bfa",
   "metadata": {},
   "outputs": [
    {
     "name": "stdout",
     "output_type": "stream",
     "text": [
      "Collatz conjecture passes for all numbers up to 10000, This proves the conjecture is true\n"
     ]
    }
   ],
   "source": [
    "def collatzSequence(n):\n",
    "    sequenceList = [n] #Store the sequence as a list\n",
    "    while n != 1: #If we end up at number 1, the sequence loop of 4, 2, 1 happens so we return\n",
    "        if n % 2 == 0:\n",
    "            n = n / 2\n",
    "        else:\n",
    "            n = (3 * n) + 1\n",
    "        sequenceList.append(n) #Add current number to the sequence\n",
    "    return sequenceList\n",
    "\n",
    "isConjectureTrue = True;\n",
    "for i in range(1, 10001): #Loop through numbers 1 to 10000 inclusive\n",
    "    sequenceList = collatzSequence(i)\n",
    "    if sequenceList[-1] != 1: #Sequence[-1] is the last number in the sequence\n",
    "        print(f\"Collatz conjecture is not true, the number {i} didn't end in the 4, 2, 1 sequence\")\n",
    "        isConjectureTrue = False\n",
    "\n",
    "if isConjectureTrue:\n",
    "    print(\"Collatz conjecture passes for all numbers up to 10000, This proves the conjecture is true\")"
   ]
  },
  {
   "cell_type": "markdown",
   "id": "40b8d616",
   "metadata": {},
   "source": [
    "This code takes every number between 1 to 10000 and passes it through the collatz sequence. If the sequence ends at 1, it stops running and returns the method since it then starts the [4, 2, 1] sequence loop.\n",
    "\n",
    "*When running the code, you can see that all numbers up to 10000 pass this conjecture.*"
   ]
  },
  {
   "cell_type": "markdown",
   "id": "4ef50e3a",
   "metadata": {},
   "source": []
  },
  {
   "cell_type": "markdown",
   "id": "da900b90",
   "metadata": {},
   "source": [
    "# Calculating Square Roots\n",
    "\n",
    "## The Task\n",
    "\n",
    "you should write a function sqrt(x) to approximate the square root of a floating point number x without\n",
    "using the power operator or a package.\n",
    "Rather, you should use the Newton’s method. Start with an initial guess for the square root called z0. You then repeatedly\n",
    "improve it using the following formula, until the difference between some previous guess zi and the next zi+1\n",
    "is less than some threshold, say 0.01.\n",
    "\n",
    "$$\n",
    "z_{i+1} = z_i - \\frac{z_i\\times z_i-x}{2z_i}\n",
    "$$"
   ]
  },
  {
   "cell_type": "markdown",
   "id": "2a218252",
   "metadata": {},
   "source": [
    "## Calculating the square root"
   ]
  },
  {
   "cell_type": "code",
   "execution_count": 2,
   "id": "b0c6b724",
   "metadata": {},
   "outputs": [
    {
     "name": "stdout",
     "output_type": "stream",
     "text": [
      "Square root of 12525: 111.91514650480887\n"
     ]
    }
   ],
   "source": [
    "import random;\n",
    "\n",
    "def sqrt(x):\n",
    "    threshold = 0.01\n",
    "    previousGuess = random.random()*100; #Random number between 1 and 100\n",
    "    while True:        \n",
    "        newGuess = previousGuess-((previousGuess*previousGuess - x) / (2*previousGuess))\n",
    "        if newGuess >= previousGuess - threshold and newGuess <= previousGuess + threshold:\n",
    "            return newGuess\n",
    "        previousGuess = newGuess;\n",
    "    \n",
    "sqrtNumber = 12525; #The number we are getting the square root of\n",
    "    \n",
    "print(f\"Square root of {sqrtNumber}: {sqrt(sqrtNumber)}\")"
   ]
  },
  {
   "cell_type": "markdown",
   "id": "53c5d09f",
   "metadata": {},
   "source": [
    "This code generates a random number zi between 1 and 100 and runs the formula given to get zi+1. Then it checks if zi+1 is within the 0.01 threshold of zi. If it is within the threshold, it returns zi+1 as the answer, if not then we run the function again until it is."
   ]
  },
  {
   "cell_type": "markdown",
   "id": "46ea2ad1",
   "metadata": {},
   "source": [
    "# Reverse Engineering Functions\n",
    "\n",
    "## The Task\n",
    "Consider all possible functions taking four bits as input and outputting a single bit. How many such possible functions are there? \n",
    "\n",
    "Write Python code to select one such function at random out of all the possibilities. Suppose the only way you can figure out what the function is, is by calling it with different inputs and checking the outputs. How many times do you need to call the function to be certain which function it is?\n"
   ]
  },
  {
   "cell_type": "markdown",
   "id": "5be04f75",
   "metadata": {},
   "source": [
    "## Calculating the possible functions\n",
    "\n",
    "First lets generate a random function. There is 4 input bits, and 1 output bit, a bit can only have 2 values so there is 2^4 different inputs for this function. Since the output is 1 bit, there are only 2 ouputs we can get so the list of possible functions goes to 2^16 which is 65536."
   ]
  },
  {
   "cell_type": "code",
   "execution_count": 16,
   "id": "69b08db4",
   "metadata": {},
   "outputs": [],
   "source": [
    "import random\n",
    "import itertools as it\n",
    "\n",
    "#Generate a random one of 2^16 (65536) functions\n",
    "random_function_int = random.randint(0, 65535)\n",
    "\n",
    "def generateRandomFunction(input_bits, function):\n",
    "    input_value = int(\"\".join(str(bit) for bit in input_bits), 2)#format from list of bits to integer\n",
    "    \n",
    "    #Shift the value of function by the input_value (which is the equivalent of dividing it by 2^input_value)\n",
    "    #Then get the remainder of the division and assign it to the output bit\n",
    "    output_bit = (function >> input_value) & 1\n",
    "    return output_bit"
   ]
  },
  {
   "cell_type": "markdown",
   "id": "31d0cb98",
   "metadata": {},
   "source": [
    "Using itertools we can get outputs for all combinations of the 4 bits"
   ]
  },
  {
   "cell_type": "code",
   "execution_count": 17,
   "id": "ce5aa688",
   "metadata": {},
   "outputs": [
    {
     "name": "stdout",
     "output_type": "stream",
     "text": [
      "Input: (0, 0, 0, 0), Output: 1\n",
      "Input: (0, 0, 0, 1), Output: 1\n",
      "Input: (0, 0, 1, 0), Output: 0\n",
      "Input: (0, 0, 1, 1), Output: 1\n",
      "Input: (0, 1, 0, 0), Output: 0\n",
      "Input: (0, 1, 0, 1), Output: 1\n",
      "Input: (0, 1, 1, 0), Output: 1\n",
      "Input: (0, 1, 1, 1), Output: 0\n",
      "Input: (1, 0, 0, 0), Output: 0\n",
      "Input: (1, 0, 0, 1), Output: 0\n",
      "Input: (1, 0, 1, 0), Output: 0\n",
      "Input: (1, 0, 1, 1), Output: 1\n",
      "Input: (1, 1, 0, 0), Output: 0\n",
      "Input: (1, 1, 0, 1), Output: 1\n",
      "Input: (1, 1, 1, 0), Output: 0\n",
      "Input: (1, 1, 1, 1), Output: 1\n"
     ]
    }
   ],
   "source": [
    "def getFunctionOutputs(random_function_int):\n",
    "    for inputs in it.product([0, 1], repeat=4):\n",
    "        output_bit = generateRandomFunction(inputs, random_function_int)\n",
    "        print(f\"Input: {inputs}, Output: {output_bit}\")\n",
    "\n",
    "getFunctionOutputs(random_function_int) "
   ]
  },
  {
   "cell_type": "markdown",
   "id": "9e94fa49",
   "metadata": {},
   "source": [
    "## Conclusion\n",
    "As you can see from the output, there is no pattern we can follow to know what the function is without brute forcing all possbile combinations. If we knew the function was balanced or constant we could shorten the number of combinations needed to figure out what the function does. \n",
    "### Constant \n",
    "A constant function means that all the outputs are going to be 0 or 1. This means we only need to check one combination to get all the possible results of the function.\n",
    "### Balanced\n",
    "A balanced function means half of the results are 1 and the other half is 0. So we need to only run combinations until we have half the possible results as either 1 or 0"
   ]
  },
  {
   "cell_type": "markdown",
   "id": "b6b10824",
   "metadata": {},
   "source": [
    "## Another implementation "
   ]
  },
  {
   "cell_type": "code",
   "execution_count": 5,
   "id": "85320491",
   "metadata": {},
   "outputs": [],
   "source": [
    "import random\n",
    "import itertools as it"
   ]
  },
  {
   "cell_type": "code",
   "execution_count": 6,
   "id": "3f5d056a",
   "metadata": {},
   "outputs": [],
   "source": [
    "def create_f():\n",
    "    outputs = [random.choice([0, 1]) for _ in range(17)]\n",
    "    def f(x1, x2, x3, x4):\n",
    "        i = x1 * 2**3 + x2 * 2**2 + x3 + 2**1 + x4 * 2**0\n",
    "        return outputs[i]\n",
    "    return f\n"
   ]
  },
  {
   "cell_type": "code",
   "execution_count": 7,
   "id": "8ae4e7d4",
   "metadata": {},
   "outputs": [],
   "source": [
    "my_f = create_f()"
   ]
  },
  {
   "cell_type": "code",
   "execution_count": 8,
   "id": "976c7ddb",
   "metadata": {},
   "outputs": [
    {
     "name": "stdout",
     "output_type": "stream",
     "text": [
      "Input: (0, 0, 0, 0), Output: 1\n",
      "Input: (0, 0, 0, 1), Output: 0\n",
      "Input: (0, 0, 1, 0), Output: 0\n",
      "Input: (0, 0, 1, 1), Output: 1\n",
      "Input: (0, 1, 0, 0), Output: 1\n",
      "Input: (0, 1, 0, 1), Output: 1\n",
      "Input: (0, 1, 1, 0), Output: 1\n",
      "Input: (0, 1, 1, 1), Output: 0\n",
      "Input: (1, 0, 0, 0), Output: 1\n",
      "Input: (1, 0, 0, 1), Output: 1\n",
      "Input: (1, 0, 1, 0), Output: 1\n",
      "Input: (1, 0, 1, 1), Output: 1\n",
      "Input: (1, 1, 0, 0), Output: 1\n",
      "Input: (1, 1, 0, 1), Output: 1\n",
      "Input: (1, 1, 1, 0), Output: 1\n",
      "Input: (1, 1, 1, 1), Output: 1\n"
     ]
    }
   ],
   "source": [
    "for inputs in it.product([0, 1], repeat=4):\n",
    "    print(f\"Input: {inputs}, Output: {my_f(*inputs)}\")"
   ]
  },
  {
   "cell_type": "code",
   "execution_count": null,
   "id": "9c330571",
   "metadata": {},
   "outputs": [],
   "source": []
  }
 ],
 "metadata": {
  "kernelspec": {
   "display_name": "Python 3 (ipykernel)",
   "language": "python",
   "name": "python3"
  },
  "language_info": {
   "codemirror_mode": {
    "name": "ipython",
    "version": 3
   },
   "file_extension": ".py",
   "mimetype": "text/x-python",
   "name": "python",
   "nbconvert_exporter": "python",
   "pygments_lexer": "ipython3",
   "version": "3.11.5"
  }
 },
 "nbformat": 4,
 "nbformat_minor": 5
}
