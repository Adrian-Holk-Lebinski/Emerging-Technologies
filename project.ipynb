{
 "cells": [
  {
   "cell_type": "markdown",
   "id": "ec316666",
   "metadata": {},
   "source": [
    "# Quantum Computing\n",
    "\n",
    "## What is Quantum Computing?\n",
    "Quantum computing differs from classical computers that use bits. Quantum computers use quantum bits, a.k.a. *qubits*.\n",
    "\n",
    "Classical bits can only be in two states: 1 and 0. Qubits on the other hand can have multiple states at once thanks to a propery called *superposition*. Superposition allows quantum systems to process a large amount of information at once.\n",
    "\n",
    "Here are the possible states of a qubit:\n",
    "$$\n",
    "\\begin{array}{c|cc}\n",
    "& 0&1 \\\\\n",
    "\\hline\n",
    "0 & 00&01 \\\\\n",
    "1 & 10&11\n",
    "\\end{array}\n",
    "$$\n",
    "\n",
    "As you can see we can have multiple states at the same time, this lets qubits represent more information than a classical bit. \n",
    "\n",
    "Here are the possible states of a classical bit:\n",
    "\n",
    "$$\n",
    "\\begin{pmatrix}\n",
    "0 \\\\\n",
    "1\n",
    "\\end{pmatrix}\n",
    "$$\n",
    "\n",
    "## Comparing bits and qubits\n",
    "\n",
    "|                      | **Bits**                    | **Qubits**                                          |\n",
    "| :---                 | :---                        | :---                                                |\n",
    "| **States**           | Can be 0 or 1               | Can be 0, 1, or both 0 and 1 at the same exact time |\n",
    "| **Processing Power** | Linear processing, 0(n)     | Exponential processing because of superposition     |\n",
    "| **Parallelism**      | Process tasks sequentially  | Parallel processing due to superposition            |\n",
    "| **Complexity**       | Straightforward logic gates | Complex quantum operations                          |\n",
    "| **Sensitivity**      | Stable, not quantum         | Highly sensitive to the environment                 |\n",
    "\n",
    "\n",
    "## Generating circuits"
   ]
  },
  {
   "cell_type": "markdown",
   "id": "9a142ea4",
   "metadata": {},
   "source": [
    "This basic circuit consists of two qubits. \n",
    "One H gate in the first qubit and a CNOT gate going through both.\n",
    "\n",
    "A H gate"
   ]
  },
  {
   "cell_type": "code",
   "execution_count": 3,
   "id": "2c2da7c3",
   "metadata": {},
   "outputs": [],
   "source": [
    "# Importing libraries for generating the circuits\n",
    "import numpy as np\n",
    "from qiskit import QuantumCircuit\n",
    "from qiskit import Aer, transpile\n",
    "from qiskit.tools.visualization import plot_histogram, plot_state_city\n",
    "import qiskit.quantum_info as qi"
   ]
  },
  {
   "cell_type": "code",
   "execution_count": 4,
   "id": "015cb52e",
   "metadata": {},
   "outputs": [
    {
     "data": {
      "image/png": "[encoded data removed]",
      "text/plain": [
       "<Figure size 287.294x200.667 with 1 Axes>"
      ]
     },
     "execution_count": 4,
     "metadata": {},
     "output_type": "execute_result"
    }
   ],
   "source": [
    "circ = QuantumCircuit(2) # Generate a circuit with two qubits\n",
    "circ.h(0) # Add a H gate to the first qubit\n",
    "circ.cx(0, 1) # Add a CNOT gate to the first and second qubit\n",
    "circ.draw('mpl') # Draw the circuit"
   ]
  },
  {
   "cell_type": "code",
   "execution_count": 5,
   "id": "f6661a61",
   "metadata": {},
   "outputs": [
    {
     "data": {
      "image/png": "[encoded data removed]",
      "text/plain": [
       "<Figure size 700x500 with 1 Axes>"
      ]
     },
     "execution_count": 5,
     "metadata": {},
     "output_type": "execute_result"
    }
   ],
   "source": [
    "circ.measure_all()\n",
    "# Transpile for simulator\n",
    "simulator = Aer.get_backend('aer_simulator')\n",
    "circ = transpile(circ, simulator)\n",
    "\n",
    "# Run and get counts\n",
    "result = simulator.run(circ).result()\n",
    "counts = result.get_counts(circ)\n",
    "plot_histogram(counts, title='Bell-State counts')"
   ]
  },
  {
   "cell_type": "code",
   "execution_count": null,
   "id": "7625e9ae",
   "metadata": {},
   "outputs": [],
   "source": []
  },
  {
   "cell_type": "code",
   "execution_count": null,
   "id": "0ccc7e1c",
   "metadata": {},
   "outputs": [],
   "source": []
  }
 ],
 "metadata": {
  "kernelspec": {
   "display_name": "Python 3 (ipykernel)",
   "language": "python",
   "name": "python3"
  },
  "language_info": {
   "codemirror_mode": {
    "name": "ipython",
    "version": 3
   },
   "file_extension": ".py",
   "mimetype": "text/x-python",
   "name": "python",
   "nbconvert_exporter": "python",
   "pygments_lexer": "ipython3",
   "version": "3.11.5"
  }
 },
 "nbformat": 4,
 "nbformat_minor": 5
}
