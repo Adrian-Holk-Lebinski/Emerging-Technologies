{
 "cells": [
  {
   "cell_type": "markdown",
   "id": "ec316666",
   "metadata": {},
   "source": [
    "# Introduction to Quantum Computing\n",
    "Quantum computing is a field of study that uses principles of the quantum theory to develop computer technology. Quantum theory is *\"the area of physics that explains how matter and energy behave at the atomic and subatomic level\"*. \n",
    "\n",
    "Quantum computing differs from classical computers in many ways.\n",
    "\n",
    "|                               | Classical Computers                           | Quantum Computers                                             |\n",
    "| :---                          | :---                                          | :---                                                          |\n",
    "| **Unit of Information**       | Bits                                          | Qubits                                                        |\n",
    "| **Superposition**             | No superposition (0 or 1 state)               | Superposition of 0 and 1 states simultaneously                |\n",
    "| **Entanglement**              | Independent bits                              | Entangled qubits                                              |\n",
    "| **Gates**                     | Classical logic gates (AND, OR, NOT)          | Quantum gates (manipulate qubits quantum states)              |\n",
    "| **Processing Model**          | Sequential processing                         | Parallel processing, exploring multiple possibilities         |\n",
    "| **Complexity and Speed**      | Efficient for general problems                | Exponential speedup for specific problems                     |\n",
    "| **Error Sensitivity**         | Relatively stable                             | Susceptible to errors, active research on error correction    |"
   ]
  },
  {
   "cell_type": "markdown",
   "metadata": {},
   "source": [
    "## Qubits\n",
    "Classical bits can only be in two states: 1 and 0. Qubits on the other hand can have multiple states at once thanks to a propery called *superposition*. Superposition allows quantum systems to process a large amount of information at once.\n",
    "\n",
    "Here are the possible states of a qubit:\n",
    "$$\n",
    "\\begin{array}{c|cc}\n",
    "& 0&1 \\\\\n",
    "\\hline\n",
    "0 & 00&01 \\\\\n",
    "1 & 10&11\n",
    "\\end{array}\n",
    "$$\n",
    "\n",
    "As you can see we can have multiple states at the same time, this lets qubits represent more information than a classical bit. \n",
    "\n",
    "Here are the possible states of a classical bit:\n",
    "\n",
    "$$\n",
    "\\begin{pmatrix}\n",
    "0 \\\\\n",
    "1\n",
    "\\end{pmatrix}\n",
    "$$\n"
   ]
  },
  {
   "cell_type": "markdown",
   "id": "65cdc3e9",
   "metadata": {},
   "source": [
    "## Comparing bits and qubits\n",
    "\n",
    "|                      | **Bits**                    | **Qubits**                                          |\n",
    "| :---                 | :---                        | :---                                                |\n",
    "| **States**           | Can be 0 or 1               | Can be 0, 1, or both 0 and 1 at the same exact time |\n",
    "| **Processing Power** | Linear processing, 0(n)     | Exponential processing because of superposition     |\n",
    "| **Parallelism**      | Process tasks sequentially  | Parallel processing due to superposition            |\n",
    "| **Complexity**       | Straightforward logic gates | Complex quantum operations                          |\n",
    "| **Sensitivity**      | Stable, not quantum         | Highly sensitive to the environment                 |\n",
    "\n"
   ]
  },
  {
   "cell_type": "markdown",
   "metadata": {},
   "source": [
    "## Quantum Gates\n",
    "Quantum gates can measure and change the superposition state of qubits. This allows for parallel processing of multiple different possibilities, whereas the logic gates have only a possibility of returning a 0 or 1. Quantum gates can alter the entanglement of qubits which means one qubit's superposition can be related to another one even if they are physically seperate\n",
    "\n",
    "A quantum logic gate is represented using matrices where for n qubits the matrix is: \n",
    "$$2^n\\times 2^n$$\n",
    "\n",
    "An example of a quantum gate is a Hadamard gate. The Hadamard gate is one of the most fundamental gates in quantum computing. It is often denoted by the letter H. The Hadamard gate operates on a single qubit and is typically used to create superposition. This means that when this gate is applied to a qubit in a state of |0) or |1), the gate transforms it into an equal superposition of |0) and |1)\n",
    "\n",
    "|0) and |1) are the representations of the state of a qubit in quantum computing. These indicate that if a qubit in the state of |0) has a probability of 100% to have the value 0, same goes for |1)\n",
    "\n",
    "The Hadamard gate can be represented by the following matrix:\n",
    "$$\n",
    "H = \\frac{1}{\\sqrt{2}} \\begin{bmatrix}\n",
    "1 & 1 \\\\\n",
    "1 & -1 \\\\\n",
    "\\end{bmatrix}\n",
    "$$\n",
    "\n",
    "\n"
   ]
  },
  {
   "cell_type": "markdown",
   "id": "9a142ea4",
   "metadata": {},
   "source": [
    "## Generating circuits\n",
    "This basic circuit consists of two qubits. \n",
    "One H gate in the first qubit and a CNOT gate going through both."
   ]
  },
  {
   "cell_type": "code",
   "execution_count": 2,
   "id": "2c2da7c3",
   "metadata": {},
   "outputs": [],
   "source": [
    "# Importing libraries for generating the circuits\n",
    "import numpy as np\n",
    "from qiskit import QuantumCircuit\n",
    "from qiskit import Aer, transpile\n",
    "from qiskit.tools.visualization import plot_histogram, plot_state_city\n",
    "import qiskit.quantum_info as qi"
   ]
  },
  {
   "cell_type": "code",
   "execution_count": 5,
   "id": "015cb52e",
   "metadata": {},
   "outputs": [
    {
     "data": {
      "image/png": "[encoded data removed]",
      "text/plain": [
       "<Figure size 185.453x117.056 with 1 Axes>"
      ]
     },
     "execution_count": 5,
     "metadata": {},
     "output_type": "execute_result"
    }
   ],
   "source": [
    "circ = QuantumCircuit(1) # Generate a circuit with one qubits\n",
    "circ.h(0) # Add a H gate to the first qubit\n",
    "circ.draw('mpl') # Draw the circuit"
   ]
  },
  {
   "cell_type": "markdown",
   "metadata": {},
   "source": [
    "## Getting the Result of the Circuit\n",
    "\n",
    "Bell-State counts can help us calculate the results of running this circuit. These counts provide information about the probabilities of different measurement results and allow us to infer the entanglement and correlations between the qubits."
   ]
  },
  {
   "cell_type": "code",
   "execution_count": 7,
   "id": "f6661a61",
   "metadata": {},
   "outputs": [
    {
     "data": {
      "image/png": "[encoded data removed]",
      "text/plain": [
       "<Figure size 700x500 with 1 Axes>"
      ]
     },
     "execution_count": 7,
     "metadata": {},
     "output_type": "execute_result"
    }
   ],
   "source": [
    "circ.measure_all()\n",
    "# Transpile for simulator\n",
    "simulator = Aer.get_backend('aer_simulator')\n",
    "circ = transpile(circ, simulator)\n",
    "\n",
    "# Run and get counts\n",
    "result = simulator.run(circ).result()\n",
    "counts = result.get_counts(circ)\n",
    "plot_histogram(counts, title='Bell-State counts')"
   ]
  },
  {
   "cell_type": "markdown",
   "id": "7625e9ae",
   "metadata": {},
   "source": [
    "# Deautsch's Algorithm\n",
    "\n",
    "Deutsch's algorithm is one of the earliest and simplest quantum algorithms that demonstrates the power of quantum computing in solving certain types of problems more efficiently than classical computers. It was proposed by David Deutsch in 1985 and is often considered a foundational algorithm in quantum computing.\n",
    "\n",
    "The problem that Deutsch's algorithm addresses is known as the Deutsch problem, which is an example of a black-box problem. In this problem, we are given a black box that performs an unknown function on a single qubit. The function takes a binary input (0 or 1) and produces a binary output (0 or 1). The goal is to determine whether the function is constant (output is the same for both input values) or balanced (output is different for the two input values) by making as few function evaluations as possible.\n",
    "\n",
    "Deutsch's algorithm solves this problem using only one function evaluation. In the classical setting, at least two function evaluations are required to distinguish between a constant and a balanced function. However, Deutsch's algorithm exploits quantum parallelism and interference to determine the nature of the function in a single evaluation.\n",
    "\n",
    "The algorithm starts with two qubits, one in the state |0⟩ and the other in the state |1⟩, representing the input to the black box. It then applies a series of quantum gates, including a Hadamard gate and an oracle gate that performs the unknown function. The algorithm applies further gates to extract the result, and finally measures the first qubit to obtain the outcome.\n",
    "\n",
    "After the measurement, Deutsch's algorithm can determine whether the function is constant or balanced by analyzing the measurement result. Remarkably, the algorithm correctly identifies the nature of the function with only a single function evaluation, making it exponentially more efficient than classical algorithms for solving this specific problem.\n",
    "\n",
    "Deutsch's algorithm serves as a crucial demonstration of the advantage of quantum computing in terms of solving certain problems more efficiently. While it may not have immediate practical applications, it lays the foundation for more advanced quantum algorithms and showcases the unique capabilities of quantum computers.\n"
   ]
  },
  {
   "cell_type": "markdown",
   "metadata": {},
   "source": [
    "## Constant and Balanced Functions\n",
    "\n",
    "### Classical Computing\n",
    "A balanced function in classical computing is one that returns the same amount of 0s and 1s. An example would be the XOR gate. \n",
    "| Input 1 | Input 2 | Output |\n",
    "|:-------:|:-------:|:------:|\n",
    "|    0    |    0    |   0    |\n",
    "|    0    |    1    |   1    |\n",
    "|    1    |    0    |   1    |\n",
    "|    1    |    1    |   0    |\n",
    "\n",
    "A constant function in classical computing is one that returns the same result each time. An example would be the NOT gate.\n",
    "| Input 1 | Input 2 | Output |\n",
    "|:-------:|:-------:|:------:|\n",
    "|    0    |    0    |   0    |\n",
    "|    0    |    1    |   0    |\n",
    "|    1    |    0    |   0    |\n",
    "|    1    |    1    |   0    |\n",
    "\n"
   ]
  },
  {
   "cell_type": "markdown",
   "metadata": {},
   "source": []
  }
 ],
 "metadata": {
  "kernelspec": {
   "display_name": "Python 3 (ipykernel)",
   "language": "python",
   "name": "python3"
  },
  "language_info": {
   "codemirror_mode": {
    "name": "ipython",
    "version": 3
   },
   "file_extension": ".py",
   "mimetype": "text/x-python",
   "name": "python",
   "nbconvert_exporter": "python",
   "pygments_lexer": "ipython3",
   "version": "3.11.5"
  }
 },
 "nbformat": 4,
 "nbformat_minor": 5
}
